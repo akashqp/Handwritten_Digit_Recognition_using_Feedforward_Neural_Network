{
 "cells": [
  {
   "cell_type": "markdown",
   "metadata": {},
   "source": [
    "### Data Import and Setup\n",
    "Import necessary libraries for building and training a neural network, including NumPy for numerical computations, \n",
    "Matplotlib for visualization, and scikit-learn for dataset handling and preprocessing."
   ]
  },
  {
   "cell_type": "code",
   "execution_count": 1,
   "metadata": {},
   "outputs": [],
   "source": [
    "import numpy as np\n",
    "import matplotlib.pyplot as plt\n",
    "from sklearn.datasets import fetch_openml\n",
    "from sklearn.model_selection import train_test_split\n",
    "from sklearn.preprocessing import OneHotEncoder\n",
    "from PIL import Image"
   ]
  },
  {
   "cell_type": "markdown",
   "metadata": {},
   "source": [
    "### MNIST Dataset Loading\n",
    "Define a function to load and preprocess the MNIST dataset. The function:\n",
    "- Loads the MNIST dataset using fetch_openml\n",
    "- Normalizes pixel values to [0,1]\n",
    "- One-hot encodes the labels\n",
    "- Returns processed features and labels"
   ]
  },
  {
   "cell_type": "code",
   "execution_count": 2,
   "metadata": {},
   "outputs": [],
   "source": [
    "# Load the MNIST dataset\n",
    "def load_mnist():\n",
    "    mnist = fetch_openml('mnist_784', version=1)\n",
    "    X, y = mnist.data.astype(np.float32), mnist.target.astype(np.int32)\n",
    "    \n",
    "    # Normalize the data\n",
    "    X /= 255.0\n",
    "    \n",
    "    # Convert y to a NumPy array and reshape it for one-hot encoding\n",
    "    y = np.array(y).reshape(-1, 1)\n",
    "    \n",
    "    # One-hot encode the labels\n",
    "    encoder = OneHotEncoder(sparse_output=False)\n",
    "    y = encoder.fit_transform(y)\n",
    "    \n",
    "    return X, y\n",
    "\n",
    "# Load and split the data\n",
    "X, y = load_mnist()\n",
    "X_train, X_test, y_train, y_test = train_test_split(X, y, test_size=0.2, random_state=42)"
   ]
  },
  {
   "cell_type": "markdown",
   "metadata": {},
   "source": [
    "### Neural Network Architecture\n",
    "Define the neural network class with configurable layer sizes.\n",
    "Initialize weights using He initialization for better training dynamics."
   ]
  },
  {
   "cell_type": "code",
   "execution_count": 3,
   "metadata": {},
   "outputs": [],
   "source": [
    "class NeuralNetwork:\n",
    "    def __init__(self, input_size, hidden_sizes, output_size):\n",
    "        self.layers = len(hidden_sizes) + 1\n",
    "        self.weights = []\n",
    "        self.biases = []\n",
    "        \n",
    "        # Initialize weights and biases for each layer\n",
    "        sizes = [input_size] + hidden_sizes + [output_size]\n",
    "        for i in range(len(sizes) - 1):\n",
    "            self.weights.append(np.random.randn(sizes[i], sizes[i+1]) * np.sqrt(2 / sizes[i]))\n",
    "            self.biases.append(np.zeros((1, sizes[i+1])))\n"
   ]
  },
  {
   "cell_type": "markdown",
   "metadata": {},
   "source": [
    "### Activation Functions\n",
    "Define the necessary activation functions and their derivatives:\n",
    "- ReLU for hidden layers\n",
    "- Softmax for output layer"
   ]
  },
  {
   "cell_type": "code",
   "execution_count": 4,
   "metadata": {},
   "outputs": [],
   "source": [
    "def relu(x):\n",
    "    return np.maximum(0, x)\n",
    "\n",
    "def relu_derivative(x):\n",
    "    return (x > 0).astype(float)\n",
    "\n",
    "def softmax(x):\n",
    "    exp_x = np.exp(x - np.max(x, axis=1, keepdims=True))\n",
    "    return exp_x / np.sum(exp_x, axis=1, keepdims=True)"
   ]
  },
  {
   "cell_type": "markdown",
   "metadata": {},
   "source": [
    "### Forward Propagation with Dropout\n",
    "Implement forward propagation with dropout regularization to prevent overfitting.\n",
    "Dropout randomly deactivates neurons during training with a specified probability."
   ]
  },
  {
   "cell_type": "code",
   "execution_count": 5,
   "metadata": {},
   "outputs": [],
   "source": [
    "# Apply dropout to the activations\n",
    "def apply_dropout(activations, dropout_rate):\n",
    "    mask = np.random.binomial(1, 1 - dropout_rate, size=activations.shape)\n",
    "    return activations * mask / (1 - dropout_rate)\n",
    "\n",
    "# Modify the forward_propagation method to include dropout\n",
    "def forward_propagation_with_dropout(self, X, dropout_rate=0.0):\n",
    "    activations = [X]\n",
    "    z_values = []\n",
    "    \n",
    "    for i, (w, b) in enumerate(zip(self.weights, self.biases)):\n",
    "        z = np.dot(activations[-1], w) + b\n",
    "        z_values.append(z)\n",
    "        \n",
    "        # Apply ReLU for hidden layers, softmax for the output layer\n",
    "        if i < self.layers - 1:\n",
    "            activation = relu(z)\n",
    "            if dropout_rate > 0:  # Apply dropout only during training\n",
    "                activation = apply_dropout(activation, dropout_rate)\n",
    "        else:\n",
    "            activation = softmax(z)\n",
    "        \n",
    "        activations.append(activation)\n",
    "    \n",
    "    return activations, z_values\n",
    "\n",
    "NeuralNetwork.forward_propagation = forward_propagation_with_dropout"
   ]
  },
  {
   "cell_type": "markdown",
   "metadata": {},
   "source": [
    "### Back Propagation\n",
    "Implement the backpropagation algorithm to compute gradients for network parameters.\n",
    "Uses the chain rule to propagate errors backward through the network."
   ]
  },
  {
   "cell_type": "code",
   "execution_count": 6,
   "metadata": {},
   "outputs": [],
   "source": [
    "def back_propagation(self, activations, z_values, y_true):\n",
    "    deltas = [activations[-1] - y_true]\n",
    "    \n",
    "    for i in reversed(range(self.layers - 1)):\n",
    "        delta = np.dot(deltas[0], self.weights[i + 1].T) * relu_derivative(z_values[i])\n",
    "        deltas.insert(0, delta)\n",
    "    \n",
    "    # Compute gradients for weights and biases\n",
    "    grad_w = []\n",
    "    grad_b = []\n",
    "    for i in range(self.layers):\n",
    "        grad_w.append(np.dot(activations[i].T, deltas[i]) / y_true.shape[0])\n",
    "        grad_b.append(np.sum(deltas[i], axis=0, keepdims=True) / y_true.shape[0])\n",
    "    \n",
    "    return grad_w, grad_b\n",
    "\n",
    "NeuralNetwork.back_propagation = back_propagation\n"
   ]
  },
  {
   "cell_type": "markdown",
   "metadata": {},
   "source": [
    "### Parameter Updates with L2 Regularization\n",
    "Update network parameters using gradient descent with L2 regularization to prevent overfitting."
   ]
  },
  {
   "cell_type": "code",
   "execution_count": 7,
   "metadata": {},
   "outputs": [],
   "source": [
    "def update_parameters_with_l2(self, grad_w, grad_b, learning_rate, l2_lambda):\n",
    "    for i in range(self.layers):\n",
    "        self.weights[i] -= learning_rate * (grad_w[i] + l2_lambda * self.weights[i])\n",
    "        self.biases[i] -= learning_rate * grad_b[i]\n",
    "\n",
    "NeuralNetwork.update_parameters = update_parameters_with_l2"
   ]
  },
  {
   "cell_type": "markdown",
   "metadata": {},
   "source": [
    "### Training Loop\n",
    "Implement the main training loop with:\n",
    "- Mini-batch gradient descent\n",
    "- Loss and accuracy tracking\n",
    "- Progress visualization"
   ]
  },
  {
   "cell_type": "code",
   "execution_count": 8,
   "metadata": {},
   "outputs": [],
   "source": [
    "# Modify train method to store loss and accuracy\n",
    "def train(self, X, y, epochs, batch_size, learning_rate, l2_lambda=0.0, dropout_rate=0.0):\n",
    "    X = np.array(X)\n",
    "    y = np.array(y)\n",
    "    \n",
    "    losses = []\n",
    "    accuracies = []\n",
    "    \n",
    "    for epoch in range(epochs):\n",
    "        indices = np.arange(X.shape[0])\n",
    "        np.random.shuffle(indices)\n",
    "        X, y = X[indices], y[indices]\n",
    "        \n",
    "        epoch_loss = 0\n",
    "        for start in range(0, X.shape[0], batch_size):\n",
    "            end = start + batch_size\n",
    "            batch_X, batch_y = X[start:end], y[start:end]\n",
    "            \n",
    "            # Forward and backward pass\n",
    "            activations, z_values = self.forward_propagation(batch_X, dropout_rate=dropout_rate)\n",
    "            grad_w, grad_b = self.back_propagation(activations, z_values, batch_y)\n",
    "            \n",
    "            # Update parameters with L2 regularization\n",
    "            self.update_parameters(grad_w, grad_b, learning_rate, l2_lambda)\n",
    "            \n",
    "            # Compute loss\n",
    "            batch_loss = -np.mean(np.sum(batch_y * np.log(activations[-1]), axis=1))\n",
    "            epoch_loss += batch_loss\n",
    "        \n",
    "        # Calculate accuracy for monitoring\n",
    "        epoch_loss /= (X.shape[0] // batch_size)\n",
    "        epoch_accuracy = self.accuracy(X, y)\n",
    "        losses.append(epoch_loss)\n",
    "        accuracies.append(epoch_accuracy)\n",
    "        \n",
    "        print(f\"Epoch {epoch + 1}/{epochs}, Loss: {epoch_loss:.4f}, Accuracy: {epoch_accuracy:.4f}\")\n",
    "    \n",
    "    # Plot the training loss and accuracy\n",
    "    plt.figure()\n",
    "    plt.plot(range(epochs), losses, label='Loss')\n",
    "    plt.plot(range(epochs), accuracies, label='Accuracy')\n",
    "    plt.xlabel('Epochs')\n",
    "    plt.ylabel('Value')\n",
    "    plt.legend()\n",
    "    plt.title('Training Loss and Accuracy')\n",
    "    plt.show()\n",
    "\n",
    "NeuralNetwork.train = train\n"
   ]
  },
  {
   "cell_type": "markdown",
   "metadata": {},
   "source": [
    "### Prediction and Accuracy Methods\n",
    "Define methods for making predictions and calculating model accuracy"
   ]
  },
  {
   "cell_type": "code",
   "execution_count": 9,
   "metadata": {},
   "outputs": [],
   "source": [
    "def predict(self, X):\n",
    "    activations, _ = self.forward_propagation(X)\n",
    "    return np.argmax(activations[-1], axis=1)\n",
    "\n",
    "def accuracy(self, X, y_true):\n",
    "    y_pred = self.predict(X)\n",
    "    y_true = np.argmax(y_true, axis=1)\n",
    "    return np.mean(y_pred == y_true)\n",
    "\n",
    "NeuralNetwork.predict = predict\n",
    "NeuralNetwork.accuracy = accuracy"
   ]
  },
  {
   "cell_type": "markdown",
   "metadata": {},
   "source": [
    "### Model Training\n",
    "Create and train the neural network with:\n",
    "- 784 input features (28x28 pixels)\n",
    "- Two hidden layers (128 and 64 neurons)\n",
    "- 10 output classes (digits 0-9)"
   ]
  },
  {
   "cell_type": "code",
   "execution_count": 10,
   "metadata": {},
   "outputs": [
    {
     "name": "stdout",
     "output_type": "stream",
     "text": [
      "Epoch 1/50, Loss: 0.6098, Accuracy: 0.9066\n",
      "Epoch 2/50, Loss: 0.4170, Accuracy: 0.9105\n",
      "Epoch 3/50, Loss: 0.3871, Accuracy: 0.9192\n",
      "Epoch 4/50, Loss: 0.3689, Accuracy: 0.9198\n",
      "Epoch 5/50, Loss: 0.3551, Accuracy: 0.9289\n",
      "Epoch 6/50, Loss: 0.3474, Accuracy: 0.9242\n",
      "Epoch 7/50, Loss: 0.3449, Accuracy: 0.9185\n",
      "Epoch 8/50, Loss: 0.3398, Accuracy: 0.9263\n",
      "Epoch 9/50, Loss: 0.3349, Accuracy: 0.9332\n",
      "Epoch 10/50, Loss: 0.3317, Accuracy: 0.9313\n",
      "Epoch 11/50, Loss: 0.3310, Accuracy: 0.9239\n",
      "Epoch 12/50, Loss: 0.3257, Accuracy: 0.9289\n",
      "Epoch 13/50, Loss: 0.3294, Accuracy: 0.9329\n",
      "Epoch 14/50, Loss: 0.3250, Accuracy: 0.9318\n",
      "Epoch 15/50, Loss: 0.3260, Accuracy: 0.9346\n",
      "Epoch 16/50, Loss: 0.3266, Accuracy: 0.9376\n",
      "Epoch 17/50, Loss: 0.3246, Accuracy: 0.9297\n",
      "Epoch 18/50, Loss: 0.3258, Accuracy: 0.9371\n",
      "Epoch 19/50, Loss: 0.3200, Accuracy: 0.9305\n",
      "Epoch 20/50, Loss: 0.3190, Accuracy: 0.9347\n",
      "Epoch 21/50, Loss: 0.3206, Accuracy: 0.9317\n",
      "Epoch 22/50, Loss: 0.3224, Accuracy: 0.9270\n",
      "Epoch 23/50, Loss: 0.3189, Accuracy: 0.9281\n",
      "Epoch 24/50, Loss: 0.3199, Accuracy: 0.9294\n",
      "Epoch 25/50, Loss: 0.3188, Accuracy: 0.9357\n",
      "Epoch 26/50, Loss: 0.3183, Accuracy: 0.9368\n",
      "Epoch 27/50, Loss: 0.3196, Accuracy: 0.9341\n",
      "Epoch 28/50, Loss: 0.3213, Accuracy: 0.9256\n",
      "Epoch 29/50, Loss: 0.3227, Accuracy: 0.9320\n",
      "Epoch 30/50, Loss: 0.3216, Accuracy: 0.9332\n",
      "Epoch 31/50, Loss: 0.3190, Accuracy: 0.9346\n",
      "Epoch 32/50, Loss: 0.3212, Accuracy: 0.9354\n",
      "Epoch 33/50, Loss: 0.3215, Accuracy: 0.9196\n",
      "Epoch 34/50, Loss: 0.3193, Accuracy: 0.9318\n",
      "Epoch 35/50, Loss: 0.3167, Accuracy: 0.9291\n",
      "Epoch 36/50, Loss: 0.3199, Accuracy: 0.9376\n",
      "Epoch 37/50, Loss: 0.3206, Accuracy: 0.9340\n",
      "Epoch 38/50, Loss: 0.3196, Accuracy: 0.9251\n",
      "Epoch 39/50, Loss: 0.3176, Accuracy: 0.9347\n",
      "Epoch 40/50, Loss: 0.3173, Accuracy: 0.9371\n",
      "Epoch 41/50, Loss: 0.3183, Accuracy: 0.9356\n",
      "Epoch 42/50, Loss: 0.3181, Accuracy: 0.9384\n",
      "Epoch 43/50, Loss: 0.3144, Accuracy: 0.9390\n",
      "Epoch 44/50, Loss: 0.3172, Accuracy: 0.9319\n",
      "Epoch 45/50, Loss: 0.3182, Accuracy: 0.9340\n",
      "Epoch 46/50, Loss: 0.3170, Accuracy: 0.9373\n",
      "Epoch 47/50, Loss: 0.3181, Accuracy: 0.9324\n",
      "Epoch 48/50, Loss: 0.3158, Accuracy: 0.9327\n",
      "Epoch 49/50, Loss: 0.3164, Accuracy: 0.9375\n",
      "Epoch 50/50, Loss: 0.3171, Accuracy: 0.9310\n"
     ]
    },
    {
     "data": {
      "image/png": "[encoded data removed]",
      "text/plain": [
       "<Figure size 640x480 with 1 Axes>"
      ]
     },
     "metadata": {},
     "output_type": "display_data"
    },
    {
     "name": "stdout",
     "output_type": "stream",
     "text": [
      "Test Accuracy: 0.9271\n"
     ]
    }
   ],
   "source": [
    "# Define the network\n",
    "nn = NeuralNetwork(input_size=784, hidden_sizes=[128, 64], output_size=10)\n",
    "\n",
    "# Train the network\n",
    "nn.train(X_train, y_train, epochs=50, batch_size=64, learning_rate=0.1, dropout_rate=0.2, l2_lambda=0.01)\n",
    "\n",
    "# Test accuracy\n",
    "test_accuracy = nn.accuracy(X_test, y_test)\n",
    "print(f\"Test Accuracy: {test_accuracy:.4f}\")\n"
   ]
  },
  {
   "cell_type": "markdown",
   "metadata": {},
   "source": [
    "### Model Testing\n",
    "Test the trained model on random samples from the test set\n",
    "Visualize results with true and predicted labels"
   ]
  },
  {
   "cell_type": "code",
   "execution_count": 12,
   "metadata": {},
   "outputs": [
    {
     "data": {
      "image/png": "[encoded data removed]",
      "text/plain": [
       "<Figure size 640x480 with 1 Axes>"
      ]
     },
     "metadata": {},
     "output_type": "display_data"
    },
    {
     "data": {
      "image/png": "[encoded data removed]",
      "text/plain": [
       "<Figure size 640x480 with 1 Axes>"
      ]
     },
     "metadata": {},
     "output_type": "display_data"
    },
    {
     "data": {
      "image/png": "[encoded data removed]",
      "text/plain": [
       "<Figure size 640x480 with 1 Axes>"
      ]
     },
     "metadata": {},
     "output_type": "display_data"
    },
    {
     "data": {
      "image/png": "[encoded data removed]",
      "text/plain": [
       "<Figure size 640x480 with 1 Axes>"
      ]
     },
     "metadata": {},
     "output_type": "display_data"
    },
    {
     "data": {
      "image/png": "[encoded data removed]",
      "text/plain": [
       "<Figure size 640x480 with 1 Axes>"
      ]
     },
     "metadata": {},
     "output_type": "display_data"
    }
   ],
   "source": [
    "# Function to test the model on random test samples\n",
    "def test_random_samples(model, X_test, y_test, num_samples=5):\n",
    "    # Convert X_test to numpy array if it isn't already\n",
    "    X_test_array = X_test.to_numpy() if hasattr(X_test, 'to_numpy') else np.array(X_test)\n",
    "    y_test_array = y_test.to_numpy() if hasattr(y_test, 'to_numpy') else np.array(y_test)\n",
    "    \n",
    "    indices = np.random.choice(range(X_test_array.shape[0]), num_samples, replace=False)\n",
    "    for idx in indices:\n",
    "        image = X_test_array[idx].reshape(28, 28)\n",
    "        true_label = np.argmax(y_test_array[idx])\n",
    "        predicted_label = model.predict(X_test_array[idx:idx+1])[0]\n",
    "        \n",
    "        plt.figure()\n",
    "        plt.imshow(image, cmap='gray')\n",
    "        plt.title(f\"True Label: {true_label}, Predicted: {predicted_label}\")\n",
    "        plt.axis('off')\n",
    "        plt.show()\n",
    "\n",
    "# Test the model on random samples\n",
    "test_random_samples(nn, X_test, y_test, num_samples=5)"
   ]
  },
  {
   "cell_type": "code",
   "execution_count": null,
   "metadata": {},
   "outputs": [],
   "source": []
  }
 ],
 "metadata": {
  "kernelspec": {
   "display_name": "Python 3 (ipykernel)",
   "language": "python",
   "name": "python3"
  },
  "language_info": {
   "codemirror_mode": {
    "name": "ipython",
    "version": 3
   },
   "file_extension": ".py",
   "mimetype": "text/x-python",
   "name": "python",
   "nbconvert_exporter": "python",
   "pygments_lexer": "ipython3",
   "version": "3.11.2"
  }
 },
 "nbformat": 4,
 "nbformat_minor": 4
}
